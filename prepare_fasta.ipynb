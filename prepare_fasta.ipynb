{
 "cells": [
  {
   "cell_type": "code",
   "execution_count": 23,
   "metadata": {},
   "outputs": [],
   "source": [
    "import gzip\n",
    "from collections import defaultdict\n",
    "\n",
    "import numpy as np\n",
    "import pandas as pd\n",
    "import matplotlib.pyplot as plt\n",
    "from Bio import SeqIO\n",
    "import tqdm"
   ]
  },
  {
   "cell_type": "code",
   "execution_count": 6,
   "metadata": {},
   "outputs": [
    {
     "data": {
      "text/html": [
       "<div>\n",
       "<style scoped>\n",
       "    .dataframe tbody tr th:only-of-type {\n",
       "        vertical-align: middle;\n",
       "    }\n",
       "\n",
       "    .dataframe tbody tr th {\n",
       "        vertical-align: top;\n",
       "    }\n",
       "\n",
       "    .dataframe thead th {\n",
       "        text-align: right;\n",
       "    }\n",
       "</style>\n",
       "<table border=\"1\" class=\"dataframe\">\n",
       "  <thead>\n",
       "    <tr style=\"text-align: right;\">\n",
       "      <th></th>\n",
       "      <th>taxa_path</th>\n",
       "      <th>tax_slv_id</th>\n",
       "      <th>genus</th>\n",
       "    </tr>\n",
       "  </thead>\n",
       "  <tbody>\n",
       "    <tr>\n",
       "      <th>0</th>\n",
       "      <td>Archaea;Aenigmarchaeota;Aenigmarchaeia;Aenigma...</td>\n",
       "      <td>42915</td>\n",
       "      <td>Candidatus Aenigmarchaeum</td>\n",
       "    </tr>\n",
       "    <tr>\n",
       "      <th>1</th>\n",
       "      <td>Archaea;Altiarchaeota;Altiarchaeia;Altiarchaea...</td>\n",
       "      <td>42918</td>\n",
       "      <td>Candidatus Altiarchaeum</td>\n",
       "    </tr>\n",
       "    <tr>\n",
       "      <th>2</th>\n",
       "      <td>Archaea;Crenarchaeota;Methanomethylicia;Methan...</td>\n",
       "      <td>42926</td>\n",
       "      <td>Candidatus Methanomethylicus</td>\n",
       "    </tr>\n",
       "    <tr>\n",
       "      <th>3</th>\n",
       "      <td>Archaea;Crenarchaeota;Nitrososphaeria;Caldiarc...</td>\n",
       "      <td>42930</td>\n",
       "      <td>Candidatus Caldiarchaeum</td>\n",
       "    </tr>\n",
       "    <tr>\n",
       "      <th>4</th>\n",
       "      <td>Archaea;Crenarchaeota;Nitrososphaeria;Nitrosoc...</td>\n",
       "      <td>42937</td>\n",
       "      <td>Candidatus Nitrosocaldus</td>\n",
       "    </tr>\n",
       "    <tr>\n",
       "      <th>...</th>\n",
       "      <td>...</td>\n",
       "      <td>...</td>\n",
       "      <td>...</td>\n",
       "    </tr>\n",
       "    <tr>\n",
       "      <th>9113</th>\n",
       "      <td>Eukaryota;SAR;Stramenopiles;Peronosporomycetes...</td>\n",
       "      <td>10100</td>\n",
       "      <td>Saprolegnia</td>\n",
       "    </tr>\n",
       "    <tr>\n",
       "      <th>9114</th>\n",
       "      <td>Eukaryota;SAR;Stramenopiles;Peronosporomycetes...</td>\n",
       "      <td>10101</td>\n",
       "      <td>Sapromyces</td>\n",
       "    </tr>\n",
       "    <tr>\n",
       "      <th>9116</th>\n",
       "      <td>Eukaryota;SAR;Stramenopiles;Placididea;Placidia;</td>\n",
       "      <td>10104</td>\n",
       "      <td>Placidia</td>\n",
       "    </tr>\n",
       "    <tr>\n",
       "      <th>9117</th>\n",
       "      <td>Eukaryota;SAR;Stramenopiles;Placididea;Suigets...</td>\n",
       "      <td>14972</td>\n",
       "      <td>Suigetsumonas</td>\n",
       "    </tr>\n",
       "    <tr>\n",
       "      <th>9118</th>\n",
       "      <td>Eukaryota;SAR;Stramenopiles;Placididea;Wobblia;</td>\n",
       "      <td>10105</td>\n",
       "      <td>Wobblia</td>\n",
       "    </tr>\n",
       "  </tbody>\n",
       "</table>\n",
       "<p>8746 rows × 3 columns</p>\n",
       "</div>"
      ],
      "text/plain": [
       "                                              taxa_path  tax_slv_id  \\\n",
       "0     Archaea;Aenigmarchaeota;Aenigmarchaeia;Aenigma...       42915   \n",
       "1     Archaea;Altiarchaeota;Altiarchaeia;Altiarchaea...       42918   \n",
       "2     Archaea;Crenarchaeota;Methanomethylicia;Methan...       42926   \n",
       "3     Archaea;Crenarchaeota;Nitrososphaeria;Caldiarc...       42930   \n",
       "4     Archaea;Crenarchaeota;Nitrososphaeria;Nitrosoc...       42937   \n",
       "...                                                 ...         ...   \n",
       "9113  Eukaryota;SAR;Stramenopiles;Peronosporomycetes...       10100   \n",
       "9114  Eukaryota;SAR;Stramenopiles;Peronosporomycetes...       10101   \n",
       "9116   Eukaryota;SAR;Stramenopiles;Placididea;Placidia;       10104   \n",
       "9117  Eukaryota;SAR;Stramenopiles;Placididea;Suigets...       14972   \n",
       "9118    Eukaryota;SAR;Stramenopiles;Placididea;Wobblia;       10105   \n",
       "\n",
       "                             genus  \n",
       "0        Candidatus Aenigmarchaeum  \n",
       "1          Candidatus Altiarchaeum  \n",
       "2     Candidatus Methanomethylicus  \n",
       "3         Candidatus Caldiarchaeum  \n",
       "4         Candidatus Nitrosocaldus  \n",
       "...                            ...  \n",
       "9113                   Saprolegnia  \n",
       "9114                    Sapromyces  \n",
       "9116                      Placidia  \n",
       "9117                 Suigetsumonas  \n",
       "9118                       Wobblia  \n",
       "\n",
       "[8746 rows x 3 columns]"
      ]
     },
     "execution_count": 6,
     "metadata": {},
     "output_type": "execute_result"
    }
   ],
   "source": [
    "# read genera\n",
    "\n",
    "#     196 Archaea\n",
    "#    3740 Bacteria\n",
    "#    5183 Eukaryota\n",
    "\n",
    "columns = ['taxa_path', 'tax_slv_id', 'rank', 'unk', 'released']\n",
    "df = pd.read_csv(\"./silva/genera.txt\", sep=\"\\t\", names=columns, header=None).iloc[:, :2]\n",
    "df['genus'] = df['taxa_path'].apply(lambda x: x.split(';')[-2])\n",
    "df = df[df.genus != 'uncultured']\n",
    "df"
   ]
  },
  {
   "cell_type": "code",
   "execution_count": 7,
   "metadata": {},
   "outputs": [],
   "source": [
    "set_of_genus = set(df.genus.values)"
   ]
  },
  {
   "cell_type": "code",
   "execution_count": 10,
   "metadata": {},
   "outputs": [
    {
     "name": "stderr",
     "output_type": "stream",
     "text": [
      "  0%|          | 0/2224740 [00:00<?, ?it/s]"
     ]
    },
    {
     "name": "stderr",
     "output_type": "stream",
     "text": [
      "100%|██████████| 2224740/2224740 [00:05<00:00, 407220.29it/s]\n"
     ]
    },
    {
     "data": {
      "text/plain": [
       "(1828970, 309890, 85880, 1312367)"
      ]
     },
     "execution_count": 10,
     "metadata": {},
     "output_type": "execute_result"
    }
   ],
   "source": [
    "data = defaultdict(list)\n",
    "\n",
    "show = False\n",
    "nseqs_with_genus = 0\n",
    "nseqs_with_genus_wo_species = 0\n",
    "nseqs_wo_genus = 0\n",
    "nseqs_other = 0\n",
    "\n",
    "headers_with_genus = open('ref.headers.with_genus', 'w')\n",
    "headers_wo_genus = open('ref.headers.wo_genus', 'w')\n",
    "headers_other = open('ref.headers.other', 'w')\n",
    "\n",
    "with open('./ref.headers') as fin:\n",
    "    for line in tqdm.tqdm(fin, total=2224740):\n",
    "        taxa_path = \" \".join(line.strip().split(' ')[1:])\n",
    "        acc = line.strip().split(' ')[0].split('.')[0].lstrip('>')\n",
    "        taxa_path_lst = taxa_path.split(';')\n",
    "        taxa_path_set = set(taxa_path_lst)\n",
    "        species = taxa_path_lst[-1]\n",
    "        genus = taxa_path_lst[-2]\n",
    "\n",
    "        if genus in set_of_genus:\n",
    "            nseqs_with_genus += 1\n",
    "            headers_with_genus.write(line)\n",
    "\n",
    "            if not species.startswith(genus):\n",
    "                nseqs_with_genus_wo_species += 1\n",
    "\n",
    "        elif 'Mitochondria'  in taxa_path_set \\\n",
    "            or 'Chloroplast' in taxa_path_set \\\n",
    "                or 'Metazoa' in taxa_path_set:\n",
    "            \n",
    "            nseqs_other += 1\n",
    "            headers_other.write(line)\n",
    "        else:\n",
    "            nseqs_wo_genus += 1\n",
    "            headers_wo_genus.write(line)\n",
    "\n",
    "            if show:\n",
    "                print(f\"{acc} {taxa_path}\")\n",
    "            \n",
    "            # if nseqs_wo_genus > 100:\n",
    "            #     break\n",
    "\n",
    "headers_with_genus.close()\n",
    "headers_wo_genus.close()\n",
    "headers_other.close()\n",
    "\n",
    "nseqs_with_genus, nseqs_wo_genus, nseqs_other, nseqs_with_genus_wo_species"
   ]
  },
  {
   "cell_type": "code",
   "execution_count": 17,
   "metadata": {},
   "outputs": [
    {
     "data": {
      "text/plain": [
       "395770"
      ]
     },
     "execution_count": 17,
     "metadata": {},
     "output_type": "execute_result"
    }
   ],
   "source": [
    "309890 + 85880"
   ]
  },
  {
   "cell_type": "code",
   "execution_count": 10,
   "metadata": {},
   "outputs": [
    {
     "name": "stderr",
     "output_type": "stream",
     "text": [
      "100%|██████████| 1828970/1828970 [00:05<00:00, 305684.96it/s]\n"
     ]
    }
   ],
   "source": [
    "data = []\n",
    "\n",
    "\n",
    "with open('./silva/ref.headers.with_genus') as fin:\n",
    "    for line in tqdm.tqdm(fin, total=1828970):\n",
    "        taxa_path = \" \".join(line.strip().split(' ')[1:])\n",
    "        acc = line.strip().split(' ')[0].split('.')[0].lstrip('>')\n",
    "        taxa_path_lst = taxa_path.split(';')\n",
    "        taxa_path_set = set(taxa_path_lst)\n",
    "        species = taxa_path_lst[-1]\n",
    "        genus = taxa_path_lst[-2]\n",
    "        domain = taxa_path_lst[0]\n",
    "\n",
    "        data.append([acc, genus, domain])"
   ]
  },
  {
   "cell_type": "code",
   "execution_count": 11,
   "metadata": {},
   "outputs": [
    {
     "data": {
      "text/html": [
       "<div>\n",
       "<style scoped>\n",
       "    .dataframe tbody tr th:only-of-type {\n",
       "        vertical-align: middle;\n",
       "    }\n",
       "\n",
       "    .dataframe tbody tr th {\n",
       "        vertical-align: top;\n",
       "    }\n",
       "\n",
       "    .dataframe thead th {\n",
       "        text-align: right;\n",
       "    }\n",
       "</style>\n",
       "<table border=\"1\" class=\"dataframe\">\n",
       "  <thead>\n",
       "    <tr style=\"text-align: right;\">\n",
       "      <th></th>\n",
       "      <th>acc</th>\n",
       "      <th>genus</th>\n",
       "      <th>domain</th>\n",
       "    </tr>\n",
       "  </thead>\n",
       "  <tbody>\n",
       "    <tr>\n",
       "      <th>0</th>\n",
       "      <td>BD359735</td>\n",
       "      <td>Plasmodium</td>\n",
       "      <td>Eukaryota</td>\n",
       "    </tr>\n",
       "    <tr>\n",
       "      <th>1</th>\n",
       "      <td>HL196872</td>\n",
       "      <td>Thraustochytrium</td>\n",
       "      <td>Eukaryota</td>\n",
       "    </tr>\n",
       "    <tr>\n",
       "      <th>2</th>\n",
       "      <td>FW343016</td>\n",
       "      <td>Atopostipes</td>\n",
       "      <td>Bacteria</td>\n",
       "    </tr>\n",
       "    <tr>\n",
       "      <th>3</th>\n",
       "      <td>FW369114</td>\n",
       "      <td>Bradyrhizobium</td>\n",
       "      <td>Bacteria</td>\n",
       "    </tr>\n",
       "    <tr>\n",
       "      <th>4</th>\n",
       "      <td>AY846372</td>\n",
       "      <td>Ankistrodesmus</td>\n",
       "      <td>Eukaryota</td>\n",
       "    </tr>\n",
       "    <tr>\n",
       "      <th>...</th>\n",
       "      <td>...</td>\n",
       "      <td>...</td>\n",
       "      <td>...</td>\n",
       "    </tr>\n",
       "    <tr>\n",
       "      <th>1828965</th>\n",
       "      <td>CRDG01000005</td>\n",
       "      <td>Streptococcus</td>\n",
       "      <td>Bacteria</td>\n",
       "    </tr>\n",
       "    <tr>\n",
       "      <th>1828966</th>\n",
       "      <td>CRDV01000071</td>\n",
       "      <td>Streptococcus</td>\n",
       "      <td>Bacteria</td>\n",
       "    </tr>\n",
       "    <tr>\n",
       "      <th>1828967</th>\n",
       "      <td>CRVJ01000043</td>\n",
       "      <td>Streptococcus</td>\n",
       "      <td>Bacteria</td>\n",
       "    </tr>\n",
       "    <tr>\n",
       "      <th>1828968</th>\n",
       "      <td>CRRV01000010</td>\n",
       "      <td>Streptococcus</td>\n",
       "      <td>Bacteria</td>\n",
       "    </tr>\n",
       "    <tr>\n",
       "      <th>1828969</th>\n",
       "      <td>CRST01000010</td>\n",
       "      <td>Streptococcus</td>\n",
       "      <td>Bacteria</td>\n",
       "    </tr>\n",
       "  </tbody>\n",
       "</table>\n",
       "<p>1828970 rows × 3 columns</p>\n",
       "</div>"
      ],
      "text/plain": [
       "                  acc             genus     domain\n",
       "0            BD359735        Plasmodium  Eukaryota\n",
       "1            HL196872  Thraustochytrium  Eukaryota\n",
       "2            FW343016       Atopostipes   Bacteria\n",
       "3            FW369114    Bradyrhizobium   Bacteria\n",
       "4            AY846372    Ankistrodesmus  Eukaryota\n",
       "...               ...               ...        ...\n",
       "1828965  CRDG01000005     Streptococcus   Bacteria\n",
       "1828966  CRDV01000071     Streptococcus   Bacteria\n",
       "1828967  CRVJ01000043     Streptococcus   Bacteria\n",
       "1828968  CRRV01000010     Streptococcus   Bacteria\n",
       "1828969  CRST01000010     Streptococcus   Bacteria\n",
       "\n",
       "[1828970 rows x 3 columns]"
      ]
     },
     "execution_count": 11,
     "metadata": {},
     "output_type": "execute_result"
    }
   ],
   "source": [
    "df_genus_acc = pd.DataFrame(data, columns=['acc', 'genus', 'domain'])\n",
    "df_genus_acc"
   ]
  },
  {
   "cell_type": "code",
   "execution_count": 12,
   "metadata": {},
   "outputs": [
    {
     "data": {
      "text/plain": [
       "Bacteria     1702086\n",
       "Eukaryota      89194\n",
       "Archaea        37690\n",
       "Name: domain, dtype: int64"
      ]
     },
     "execution_count": 12,
     "metadata": {},
     "output_type": "execute_result"
    }
   ],
   "source": [
    "df_genus_acc.domain.value_counts()"
   ]
  },
  {
   "cell_type": "code",
   "execution_count": 34,
   "metadata": {},
   "outputs": [
    {
     "data": {
      "text/plain": [
       "Staphylococcus                                        140858\n",
       "Streptococcus                                          75361\n",
       "Corynebacterium                                        68023\n",
       "Bacillus                                               67032\n",
       "Cutibacterium                                          60377\n",
       "Pseudomonas                                            53933\n",
       "Bacteroides                                            38678\n",
       "Escherichia-Shigella                                   34831\n",
       "Streptomyces                                           23042\n",
       "Acinetobacter                                          22909\n",
       "Enterococcus                                           15539\n",
       "WCHB1-32                                               15528\n",
       "Klebsiella                                             15270\n",
       "Burkholderia-Caballeronia-Paraburkholderia             14767\n",
       "Salmonella                                             13712\n",
       "Vibrio                                                 13551\n",
       "Mycobacterium                                          13271\n",
       "Neisseria                                              12181\n",
       "Faecalibacterium                                       11348\n",
       "Enterobacter                                           11048\n",
       "Lactobacillus                                          11042\n",
       "Serratia                                               11040\n",
       "Blautia                                                 9896\n",
       "Lachnospiraceae NK4A136 group                           9752\n",
       "Haemophilus                                             9676\n",
       "Clostridium sensu stricto 1                             9255\n",
       "Prevotella                                              8864\n",
       "Fusobacterium                                           8645\n",
       "Cloacibacterium                                         8229\n",
       "Allorhizobium-Neorhizobium-Pararhizobium-Rhizobium      8200\n",
       "Name: genus, dtype: int64"
      ]
     },
     "execution_count": 34,
     "metadata": {},
     "output_type": "execute_result"
    }
   ],
   "source": [
    "genus_abund = df_genus_acc.genus.value_counts()\n",
    "genus_abund.head(30)"
   ]
  },
  {
   "cell_type": "code",
   "execution_count": 30,
   "metadata": {},
   "outputs": [
    {
     "data": {
      "text/plain": [
       "count      8732.000000\n",
       "mean        209.456024\n",
       "std        2385.358122\n",
       "min           1.000000\n",
       "25%           2.000000\n",
       "50%           7.000000\n",
       "75%          40.000000\n",
       "max      140858.000000\n",
       "Name: genus, dtype: float64"
      ]
     },
     "execution_count": 30,
     "metadata": {},
     "output_type": "execute_result"
    }
   ],
   "source": [
    "genus_abund.describe()"
   ]
  },
  {
   "cell_type": "code",
   "execution_count": 21,
   "metadata": {},
   "outputs": [],
   "source": [
    "_x = []\n",
    "_y = []\n",
    "for i in range(51):\n",
    "    _x.append(i)\n",
    "    _y.append(genus_abund[genus_abund > i].shape[0])"
   ]
  },
  {
   "cell_type": "code",
   "execution_count": 26,
   "metadata": {},
   "outputs": [
    {
     "data": {
      "image/png": "[encoded data removed]",
      "text/plain": [
       "<Figure size 432x288 with 1 Axes>"
      ]
     },
     "metadata": {
      "needs_background": "light"
     },
     "output_type": "display_data"
    }
   ],
   "source": [
    "plt.plot(_x, _y)\n",
    "plt.xlabel('Minimal number of uniq seqs')\n",
    "plt.ylabel('Count')\n",
    "plt.show()"
   ]
  },
  {
   "cell_type": "code",
   "execution_count": 38,
   "metadata": {},
   "outputs": [
    {
     "data": {
      "text/plain": [
       "<AxesSubplot:>"
      ]
     },
     "execution_count": 38,
     "metadata": {},
     "output_type": "execute_result"
    },
    {
     "data": {
      "image/png": "[encoded data removed]",
      "text/plain": [
       "<Figure size 432x288 with 1 Axes>"
      ]
     },
     "metadata": {
      "needs_background": "light"
     },
     "output_type": "display_data"
    }
   ],
   "source": [
    "genus_abund[genus_abund < 500].hist(bins=100)"
   ]
  },
  {
   "cell_type": "code",
   "execution_count": null,
   "metadata": {},
   "outputs": [],
   "source": []
  },
  {
   "cell_type": "code",
   "execution_count": null,
   "metadata": {},
   "outputs": [],
   "source": []
  },
  {
   "cell_type": "code",
   "execution_count": null,
   "metadata": {},
   "outputs": [],
   "source": []
  },
  {
   "cell_type": "markdown",
   "metadata": {},
   "source": [
    "## Sample genera sequences from fasta"
   ]
  },
  {
   "cell_type": "code",
   "execution_count": 47,
   "metadata": {},
   "outputs": [
    {
     "name": "stderr",
     "output_type": "stream",
     "text": [
      "205237it [01:01, 3329.39it/s]\n"
     ]
    },
    {
     "ename": "KeyboardInterrupt",
     "evalue": "",
     "output_type": "error",
     "traceback": [
      "\u001b[0;31m---------------------------------------------------------------------------\u001b[0m",
      "\u001b[0;31mKeyboardInterrupt\u001b[0m                         Traceback (most recent call last)",
      "Input \u001b[0;32mIn [47]\u001b[0m, in \u001b[0;36m<cell line: 5>\u001b[0;34m()\u001b[0m\n\u001b[1;32m      4\u001b[0m i \u001b[38;5;241m=\u001b[39m \u001b[38;5;241m0\u001b[39m\n\u001b[1;32m      5\u001b[0m \u001b[38;5;28;01mwith\u001b[39;00m gzip\u001b[38;5;241m.\u001b[39mopen(\u001b[38;5;124m\"\u001b[39m\u001b[38;5;124m./SILVA_138.1_SSURef_tax_silva_full_align_trunc.fasta.gz\u001b[39m\u001b[38;5;124m\"\u001b[39m, \u001b[38;5;124m\"\u001b[39m\u001b[38;5;124mrt\u001b[39m\u001b[38;5;124m\"\u001b[39m) \u001b[38;5;28;01mas\u001b[39;00m handle:\n\u001b[0;32m----> 6\u001b[0m     \u001b[38;5;28;01mfor\u001b[39;00m record \u001b[38;5;129;01min\u001b[39;00m tqdm\u001b[38;5;241m.\u001b[39mtqdm(SeqIO\u001b[38;5;241m.\u001b[39mparse(handle, \u001b[38;5;124m\"\u001b[39m\u001b[38;5;124mfasta\u001b[39m\u001b[38;5;124m\"\u001b[39m)):\n\u001b[1;32m      7\u001b[0m         taxa_path \u001b[38;5;241m=\u001b[39m \u001b[38;5;124m\"\u001b[39m\u001b[38;5;124m \u001b[39m\u001b[38;5;124m\"\u001b[39m\u001b[38;5;241m.\u001b[39mjoin(record\u001b[38;5;241m.\u001b[39mdescription\u001b[38;5;241m.\u001b[39msplit(\u001b[38;5;124m'\u001b[39m\u001b[38;5;124m \u001b[39m\u001b[38;5;124m'\u001b[39m)[\u001b[38;5;241m1\u001b[39m:])\n\u001b[1;32m      8\u001b[0m         taxa_path_lst \u001b[38;5;241m=\u001b[39m taxa_path\u001b[38;5;241m.\u001b[39msplit(\u001b[38;5;124m'\u001b[39m\u001b[38;5;124m;\u001b[39m\u001b[38;5;124m'\u001b[39m)\n",
      "File \u001b[0;32m~/env_bio/lib/python3.9/site-packages/tqdm/std.py:1180\u001b[0m, in \u001b[0;36mtqdm.__iter__\u001b[0;34m(self)\u001b[0m\n\u001b[1;32m   1177\u001b[0m time \u001b[38;5;241m=\u001b[39m \u001b[38;5;28mself\u001b[39m\u001b[38;5;241m.\u001b[39m_time\n\u001b[1;32m   1179\u001b[0m \u001b[38;5;28;01mtry\u001b[39;00m:\n\u001b[0;32m-> 1180\u001b[0m     \u001b[38;5;28;01mfor\u001b[39;00m obj \u001b[38;5;129;01min\u001b[39;00m iterable:\n\u001b[1;32m   1181\u001b[0m         \u001b[38;5;28;01myield\u001b[39;00m obj\n\u001b[1;32m   1182\u001b[0m         \u001b[38;5;66;03m# Update and possibly print the progressbar.\u001b[39;00m\n\u001b[1;32m   1183\u001b[0m         \u001b[38;5;66;03m# Note: does not call self.update(1) for speed optimisation.\u001b[39;00m\n",
      "File \u001b[0;32m~/env_bio/lib/python3.9/site-packages/Bio/SeqIO/Interfaces.py:74\u001b[0m, in \u001b[0;36mSequenceIterator.__next__\u001b[0;34m(self)\u001b[0m\n\u001b[1;32m     72\u001b[0m \u001b[38;5;28;01mdef\u001b[39;00m \u001b[38;5;21m__next__\u001b[39m(\u001b[38;5;28mself\u001b[39m):\n\u001b[1;32m     73\u001b[0m     \u001b[38;5;28;01mtry\u001b[39;00m:\n\u001b[0;32m---> 74\u001b[0m         \u001b[38;5;28;01mreturn\u001b[39;00m \u001b[38;5;28;43mnext\u001b[39;49m\u001b[43m(\u001b[49m\u001b[38;5;28;43mself\u001b[39;49m\u001b[38;5;241;43m.\u001b[39;49m\u001b[43mrecords\u001b[49m\u001b[43m)\u001b[49m\n\u001b[1;32m     75\u001b[0m     \u001b[38;5;28;01mexcept\u001b[39;00m \u001b[38;5;167;01mException\u001b[39;00m:\n\u001b[1;32m     76\u001b[0m         \u001b[38;5;28;01mif\u001b[39;00m \u001b[38;5;28mself\u001b[39m\u001b[38;5;241m.\u001b[39mshould_close_stream:\n",
      "File \u001b[0;32m~/env_bio/lib/python3.9/site-packages/Bio/SeqIO/FastaIO.py:198\u001b[0m, in \u001b[0;36mFastaIterator.iterate\u001b[0;34m(self, handle)\u001b[0m\n\u001b[1;32m    196\u001b[0m         \u001b[38;5;28;01myield\u001b[39;00m SeqRecord(Seq(sequence), \u001b[38;5;28mid\u001b[39m\u001b[38;5;241m=\u001b[39m\u001b[38;5;28mid\u001b[39m, name\u001b[38;5;241m=\u001b[39mname, description\u001b[38;5;241m=\u001b[39mdescr)\n\u001b[1;32m    197\u001b[0m \u001b[38;5;28;01melse\u001b[39;00m:\n\u001b[0;32m--> 198\u001b[0m     \u001b[38;5;28;01mfor\u001b[39;00m title, sequence \u001b[38;5;129;01min\u001b[39;00m SimpleFastaParser(handle):\n\u001b[1;32m    199\u001b[0m         \u001b[38;5;28;01mtry\u001b[39;00m:\n\u001b[1;32m    200\u001b[0m             first_word \u001b[38;5;241m=\u001b[39m title\u001b[38;5;241m.\u001b[39msplit(\u001b[38;5;28;01mNone\u001b[39;00m, \u001b[38;5;241m1\u001b[39m)[\u001b[38;5;241m0\u001b[39m]\n",
      "File \u001b[0;32m~/env_bio/lib/python3.9/site-packages/Bio/SeqIO/FastaIO.py:62\u001b[0m, in \u001b[0;36mSimpleFastaParser\u001b[0;34m(handle)\u001b[0m\n\u001b[1;32m     60\u001b[0m \u001b[38;5;28;01mfor\u001b[39;00m line \u001b[38;5;129;01min\u001b[39;00m handle:\n\u001b[1;32m     61\u001b[0m     \u001b[38;5;28;01mif\u001b[39;00m line[\u001b[38;5;241m0\u001b[39m] \u001b[38;5;241m==\u001b[39m \u001b[38;5;124m\"\u001b[39m\u001b[38;5;124m>\u001b[39m\u001b[38;5;124m\"\u001b[39m:\n\u001b[0;32m---> 62\u001b[0m         \u001b[38;5;28;01myield\u001b[39;00m title, \u001b[38;5;124;43m\"\u001b[39;49m\u001b[38;5;124;43m\"\u001b[39;49m\u001b[38;5;241;43m.\u001b[39;49m\u001b[43mjoin\u001b[49m\u001b[43m(\u001b[49m\u001b[43mlines\u001b[49m\u001b[43m)\u001b[49m\u001b[38;5;241;43m.\u001b[39;49m\u001b[43mreplace\u001b[49m\u001b[43m(\u001b[49m\u001b[38;5;124;43m\"\u001b[39;49m\u001b[38;5;124;43m \u001b[39;49m\u001b[38;5;124;43m\"\u001b[39;49m\u001b[43m,\u001b[49m\u001b[43m \u001b[49m\u001b[38;5;124;43m\"\u001b[39;49m\u001b[38;5;124;43m\"\u001b[39;49m\u001b[43m)\u001b[49m\u001b[38;5;241;43m.\u001b[39;49m\u001b[43mreplace\u001b[49m\u001b[43m(\u001b[49m\u001b[38;5;124;43m\"\u001b[39;49m\u001b[38;5;130;43;01m\\r\u001b[39;49;00m\u001b[38;5;124;43m\"\u001b[39;49m\u001b[43m,\u001b[49m\u001b[43m \u001b[49m\u001b[38;5;124;43m\"\u001b[39;49m\u001b[38;5;124;43m\"\u001b[39;49m\u001b[43m)\u001b[49m\n\u001b[1;32m     63\u001b[0m         lines \u001b[38;5;241m=\u001b[39m []\n\u001b[1;32m     64\u001b[0m         title \u001b[38;5;241m=\u001b[39m line[\u001b[38;5;241m1\u001b[39m:]\u001b[38;5;241m.\u001b[39mrstrip()\n",
      "\u001b[0;31mKeyboardInterrupt\u001b[0m: "
     ]
    }
   ],
   "source": [
    "data = defaultdict(list)\n",
    "\n",
    "show = False\n",
    "i = 0\n",
    "with gzip.open(\"./silva/SILVA_138.1_SSURef_tax_silva_full_align_trunc.fasta.gz\", \"rt\") as handle:\n",
    "    for record in tqdm.tqdm(SeqIO.parse(handle, \"fasta\")):\n",
    "        taxa_path = \" \".join(record.description.split(' ')[1:])\n",
    "        taxa_path_lst = taxa_path.split(';')\n",
    "        species = taxa_path_lst[-1]\n",
    "        genus = taxa_path_lst[-2]\n",
    "\n",
    "        # if not species.startswith(genus):\n",
    "        if genus not in set_of_genus \\\n",
    "            and 'Mitochondria' not in taxa_path \\\n",
    "                and 'Chloroplast' not in taxa_path:\n",
    "            \n",
    "            i += 1\n",
    "\n",
    "            if show:\n",
    "                # Access the record attributes\n",
    "                print(\"ID:\", record.id)\n",
    "                # print(\"Sequence:\", record.seq)\n",
    "                print(\"Description:\", record.description)\n",
    "                print(\"Length:\", len(record))\n",
    "                print(\"---\")\n",
    "            \n",
    "            # if i > 20:\n",
    "            #     break"
   ]
  },
  {
   "cell_type": "code",
   "execution_count": 12,
   "metadata": {},
   "outputs": [],
   "source": [
    "taxa_path = \" \".join(record.description.split(' ')[1:])"
   ]
  },
  {
   "cell_type": "code",
   "execution_count": 13,
   "metadata": {},
   "outputs": [
    {
     "data": {
      "text/plain": [
       "'Eukaryota;SAR;Alveolata;Apicomplexa;Aconoidasida;Haemosporoidia;Plasmodium;Plasmodium malariae'"
      ]
     },
     "execution_count": 13,
     "metadata": {},
     "output_type": "execute_result"
    }
   ],
   "source": [
    "taxa_path"
   ]
  },
  {
   "cell_type": "code",
   "execution_count": null,
   "metadata": {},
   "outputs": [],
   "source": []
  },
  {
   "cell_type": "code",
   "execution_count": null,
   "metadata": {},
   "outputs": [],
   "source": []
  }
 ],
 "metadata": {
  "kernelspec": {
   "display_name": "env_bio",
   "language": "python",
   "name": "python3"
  },
  "language_info": {
   "codemirror_mode": {
    "name": "ipython",
    "version": 3
   },
   "file_extension": ".py",
   "mimetype": "text/x-python",
   "name": "python",
   "nbconvert_exporter": "python",
   "pygments_lexer": "ipython3",
   "version": "3.9.5"
  }
 },
 "nbformat": 4,
 "nbformat_minor": 2
}
